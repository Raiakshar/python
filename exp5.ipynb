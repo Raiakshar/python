{
 "cells": [
  {
   "cell_type": "code",
   "execution_count": 3,
   "id": "e3cbc18f",
   "metadata": {},
   "outputs": [
    {
     "name": "stdout",
     "output_type": "stream",
     "text": [
      "Enter the number of elements:7\n",
      "Enter number 1:7\n",
      "Enter number 2:15\n",
      "Enter number 3:11\n",
      "Enter number 4:20\n",
      "Enter number 5:11\n",
      "Enter number 6:28\n",
      "Enter number 7:20\n",
      "mean:16.0\n",
      "median:15\n",
      "mode:[11, 20]\n",
      "Sample Variance:51.333333333333336\n",
      "Population Variance:44.0\n",
      "Sample Standard Deviation:7.164728420068226\n",
      "Population Standard Deviation:6.6332495807108\n"
     ]
    }
   ],
   "source": [
    "#Accept n numbers from the user \n",
    "n=int(input(\"Enter the number of elements:\"))\n",
    "numbers=[int(input(f\"Enter number {i+1}:\"))for i in range(n)]\n",
    "#Calculate Mean\n",
    "mean=sum(numbers)/n\n",
    "#calculate meadian\n",
    "numbers.sort()\n",
    "if n%2==0:\n",
    "    median=(numbers[n//2-1]+numbers[n//2])/2\n",
    "else:\n",
    "    median=numbers[n//2]\n",
    "#Calculate Mode\n",
    "frequency={num:numbers.count(num) for num in numbers}\n",
    "max_count=max(frequency.values())\n",
    "mode=[k for k,v in frequency.items() if v==max_count]\n",
    "if len(mode)==n:\n",
    "    mode=\"No Mode\"\n",
    "#calculate variance\n",
    "mean_difference_squared_sum=sum((x-mean)**2 for x in numbers)\n",
    "variance_sample=mean_difference_squared_sum/(n-1) if n>1 else 0\n",
    "variance_population=mean_difference_squared_sum/n\n",
    "#Calculate standard deviation\n",
    "std_deviation_sample=variance_sample**0.5\n",
    "std_deviation_population=variance_population**0.5\n",
    "print(f\"mean:{mean}\")\n",
    "print(f\"median:{median}\")\n",
    "print(f\"mode:{mode}\")\n",
    "print(f\"Sample Variance:{variance_sample}\")\n",
    "print(f\"Population Variance:{variance_population}\")\n",
    "print(f\"Sample Standard Deviation:{std_deviation_sample}\")\n",
    "print(f\"Population Standard Deviation:{std_deviation_population}\")"
   ]
  },
  {
   "cell_type": "code",
   "execution_count": null,
   "id": "386ab28f",
   "metadata": {},
   "outputs": [],
   "source": []
  }
 ],
 "metadata": {
  "kernelspec": {
   "display_name": "Python 3 (ipykernel)",
   "language": "python",
   "name": "python3"
  },
  "language_info": {
   "codemirror_mode": {
    "name": "ipython",
    "version": 3
   },
   "file_extension": ".py",
   "mimetype": "text/x-python",
   "name": "python",
   "nbconvert_exporter": "python",
   "pygments_lexer": "ipython3",
   "version": "3.10.9"
  }
 },
 "nbformat": 4,
 "nbformat_minor": 5
}
