{
 "cells": [
  {
   "cell_type": "code",
   "execution_count": 1,
   "id": "21697fcb",
   "metadata": {},
   "outputs": [
    {
     "name": "stdout",
     "output_type": "stream",
     "text": [
      "Numpy array\n",
      "[[1 2 3]\n",
      " [4 5 6]]\n",
      "_____________________________\n",
      "Row Sum\n",
      "[ 6 15]\n",
      "Column Sum\n",
      "[5 7 9]\n",
      "_____________________________\n",
      "Row Mean\n",
      "[2. 5.]\n",
      "Column Mean\n",
      "[2.5 3.5 4.5]\n",
      "_____________________________\n",
      "Row STD\n",
      "[0.81649658 0.81649658]\n",
      "Column STD\n",
      "[1.5 1.5 1.5]\n"
     ]
    }
   ],
   "source": [
    "from numpy import asarray\n",
    "data=[[1,2,3],[4,5,6]]\n",
    "data=asarray(data)\n",
    "print(\"Numpy array\")\n",
    "print(data)\n",
    "print(\"_____________________________\")\n",
    "totalr=data.sum(axis=1)\n",
    "totalc=data.sum(axis=0)\n",
    "print(\"Row Sum\")\n",
    "print(totalr)\n",
    "print(\"Column Sum\")\n",
    "print(totalc)\n",
    "print(\"_____________________________\")\n",
    "meanr=data.mean(axis=1)\n",
    "meanc=data.mean(axis=0)\n",
    "print(\"Row Mean\")\n",
    "print(meanr)\n",
    "print(\"Column Mean\")\n",
    "print(meanc)\n",
    "print(\"_____________________________\")\n",
    "stdr=data.std(axis=1)\n",
    "stdc=data.std(axis=0)\n",
    "print(\"Row STD\")\n",
    "print(stdr)\n",
    "print(\"Column STD\")\n",
    "print(stdc)"
   ]
  },
  {
   "cell_type": "code",
   "execution_count": null,
   "id": "4aa78c0d",
   "metadata": {},
   "outputs": [],
   "source": []
  }
 ],
 "metadata": {
  "kernelspec": {
   "display_name": "Python 3 (ipykernel)",
   "language": "python",
   "name": "python3"
  },
  "language_info": {
   "codemirror_mode": {
    "name": "ipython",
    "version": 3
   },
   "file_extension": ".py",
   "mimetype": "text/x-python",
   "name": "python",
   "nbconvert_exporter": "python",
   "pygments_lexer": "ipython3",
   "version": "3.10.9"
  }
 },
 "nbformat": 4,
 "nbformat_minor": 5
}
