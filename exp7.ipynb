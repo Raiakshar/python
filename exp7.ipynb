{
 "cells": [
  {
   "cell_type": "code",
   "execution_count": 2,
   "id": "96d8d604",
   "metadata": {},
   "outputs": [
    {
     "name": "stdout",
     "output_type": "stream",
     "text": [
      "Enter the user input:23456\n",
      "Enter the 1st person which u want to swap:3\n",
      "Enter the 2nd person which u want to swap:5\n",
      "Original: 23456\n",
      "Interchanged number: 23654\n"
     ]
    }
   ],
   "source": [
    "def interchange_digits(number,pos1,pos2):\n",
    "    number_str=str(number)\n",
    "    number_list=list(number_str)\n",
    "    number_list[pos1-1],number_list[pos2-1]=number_list[pos2-1],number_list[pos1-1]\n",
    "    interchanged_number=int(\"\".join(number_list))\n",
    "    return interchanged_number\n",
    "number=int(input('Enter the user input:'))\n",
    "pos1=int(input('Enter the 1st person which u want to swap:'))\n",
    "pos2=int(input('Enter the 2nd person which u want to swap:'))\n",
    "interchanged_number=interchange_digits(number,pos1,pos2)\n",
    "print(\"Original:\",number)\n",
    "print(\"Interchanged number:\",interchanged_number)"
   ]
  },
  {
   "cell_type": "code",
   "execution_count": null,
   "id": "68c764e5",
   "metadata": {},
   "outputs": [],
   "source": []
  }
 ],
 "metadata": {
  "kernelspec": {
   "display_name": "Python 3 (ipykernel)",
   "language": "python",
   "name": "python3"
  },
  "language_info": {
   "codemirror_mode": {
    "name": "ipython",
    "version": 3
   },
   "file_extension": ".py",
   "mimetype": "text/x-python",
   "name": "python",
   "nbconvert_exporter": "python",
   "pygments_lexer": "ipython3",
   "version": "3.10.9"
  }
 },
 "nbformat": 4,
 "nbformat_minor": 5
}
