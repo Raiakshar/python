{
 "cells": [
  {
   "cell_type": "code",
   "execution_count": 1,
   "id": "65ab32ca",
   "metadata": {},
   "outputs": [
    {
     "name": "stdout",
     "output_type": "stream",
     "text": [
      "Enter a sentence:hello welcome\n",
      "No duplicate words found\n"
     ]
    }
   ],
   "source": [
    "def count_duplicate_words(sentence):\n",
    "    words=sentence.split()\n",
    "    word_count={}\n",
    "    for word in words:\n",
    "        word=word.lower()\n",
    "        if word in word_count:\n",
    "            word_count[word]+=1\n",
    "        else:\n",
    "            word_count[word]=1\n",
    "    duplicate={word:count for word,count in word_count.items() if count>1}\n",
    "    if duplicate:\n",
    "        print(\"Duplicate words and their counts:\")\n",
    "        for word,count in duplicate.items():\n",
    "            print(f\"{word}:{count}\")\n",
    "    else:\n",
    "        print(\"No duplicate words found\")\n",
    "sentence=input(\"Enter a sentence:\")\n",
    "count_duplicate_words(sentence)"
   ]
  },
  {
   "cell_type": "code",
   "execution_count": null,
   "id": "734cc249",
   "metadata": {},
   "outputs": [],
   "source": []
  }
 ],
 "metadata": {
  "kernelspec": {
   "display_name": "Python 3 (ipykernel)",
   "language": "python",
   "name": "python3"
  },
  "language_info": {
   "codemirror_mode": {
    "name": "ipython",
    "version": 3
   },
   "file_extension": ".py",
   "mimetype": "text/x-python",
   "name": "python",
   "nbconvert_exporter": "python",
   "pygments_lexer": "ipython3",
   "version": "3.10.9"
  }
 },
 "nbformat": 4,
 "nbformat_minor": 5
}
