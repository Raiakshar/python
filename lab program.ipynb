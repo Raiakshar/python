{
 "cells": [
  {
   "cell_type": "markdown",
   "id": "6406cf6d",
   "metadata": {},
   "source": [
    "# exp 1"
   ]
  },
  {
   "cell_type": "code",
   "execution_count": 9,
   "id": "1e7f95e9",
   "metadata": {},
   "outputs": [
    {
     "name": "stdout",
     "output_type": "stream",
     "text": [
      "Enter the number of digits:3\n",
      "Enter a3-digit integer:123\n",
      "1\n",
      "2\n",
      "3\n"
     ]
    }
   ],
   "source": [
    "n=int(input(\"Enter the number of digits:\"))\n",
    "if n>0:\n",
    "    number=int(input(f\"Enter a{n}-digit integer:\")) \n",
    "    if number>=10**(n-1) and number<10**n:\n",
    "        for i in range(n):\n",
    "            digit=number//(10**(n-1))\n",
    "            print(digit)\n",
    "            number %=10**(n-1)\n",
    "            n-=1\n",
    "    else:\n",
    "        print(f\"please Enter a{n}-digit integer.\")\n",
    "else:\n",
    "    print(\"please enter a valid number of digits (greater that 0).\")"
   ]
  },
  {
   "cell_type": "markdown",
   "id": "632aa643",
   "metadata": {},
   "source": [
    "# exp 2"
   ]
  },
  {
   "cell_type": "code",
   "execution_count": 8,
   "id": "b2415f2f",
   "metadata": {},
   "outputs": [
    {
     "name": "stdout",
     "output_type": "stream",
     "text": [
      "Enter the first number:10\n",
      "Enter the second number:5\n",
      "Enter the third number:7\n",
      "Enter the fourth number:3\n",
      "The sorted numbers are: 10 7 5 3\n"
     ]
    }
   ],
   "source": [
    "a=int(input(\"Enter the first number:\"))\n",
    "b=int(input(\"Enter the second number:\"))\n",
    "c=int(input(\"Enter the third number:\"))\n",
    "d=int(input(\"Enter the fourth number:\"))\n",
    "if a<b:a,b=b,a\n",
    "if c<d:c,d=d,c\n",
    "if a<c:a,c=c,a\n",
    "if b<d:b,d=d,b\n",
    "if b<c:b,c=c,b\n",
    "print(\"The sorted numbers are:\",a,b,c,d)"
   ]
  },
  {
   "cell_type": "markdown",
   "id": "7e28ad9c",
   "metadata": {},
   "source": [
    "# Exp 3"
   ]
  },
  {
   "cell_type": "code",
   "execution_count": 1,
   "id": "92826669",
   "metadata": {},
   "outputs": [
    {
     "name": "stdout",
     "output_type": "stream",
     "text": [
      "Enter the number of elements:7\n",
      "Enter number 1:7\n",
      "Enter number 2:15\n",
      "Enter number 3:11\n",
      "Enter number 4:20\n",
      "Enter number 5:11\n",
      "Enter number 6:28\n",
      "Enter number 7:20\n",
      "mean:16.0\n",
      "median:15\n",
      "mode:[11, 20]\n",
      "Sample Variance:51.333333333333336\n",
      "Population Variance:44.0\n",
      "Sample Standard Deviation:7.164728420068226\n",
      "Population Standard Deviation:6.6332495807108\n"
     ]
    }
   ],
   "source": [
    "#Accept n numbers from the user \n",
    "n=int(input(\"Enter the number of elements:\"))\n",
    "numbers=[int(input(f\"Enter number {i+1}:\"))for i in range(n)]\n",
    "#Calculate Mean\n",
    "mean=sum(numbers)/n\n",
    "#calculate meadian\n",
    "numbers.sort()\n",
    "if n%2==0:\n",
    "    median=(numbers[n//2-1]+numbers[n//2])/2\n",
    "else:\n",
    "    median=numbers[n//2]\n",
    "#Calculate Mode\n",
    "frequency={num:numbers.count(num) for num in numbers}\n",
    "max_count=max(frequency.values())\n",
    "mode=[k for k,v in frequency.items() if v==max_count]\n",
    "if len(mode)==n:\n",
    "    mode=\"No Mode\"\n",
    "#calculate variance\n",
    "mean_difference_squared_sum=sum((x-mean)**2 for x in numbers)\n",
    "variance_sample=mean_difference_squared_sum/(n-1) if n>1 else 0\n",
    "variance_population=mean_difference_squared_sum/n\n",
    "#Calculate standard deviation\n",
    "std_deviation_sample=variance_sample**0.5\n",
    "std_deviation_population=variance_population**0.5\n",
    "print(f\"mean:{mean}\")\n",
    "print(f\"median:{median}\")\n",
    "print(f\"mode:{mode}\")\n",
    "print(f\"Sample Variance:{variance_sample}\")\n",
    "print(f\"Population Variance:{variance_population}\")\n",
    "print(f\"Sample Standard Deviation:{std_deviation_sample}\")\n",
    "print(f\"Population Standard Deviation:{std_deviation_population}\")"
   ]
  },
  {
   "cell_type": "markdown",
   "id": "8e4d6443",
   "metadata": {},
   "source": [
    "# exp 4"
   ]
  },
  {
   "cell_type": "code",
   "execution_count": 6,
   "id": "a9d73850",
   "metadata": {},
   "outputs": [
    {
     "name": "stdout",
     "output_type": "stream",
     "text": [
      "Enter an n-digit number:1212\n",
      "Not a Palindrome\n"
     ]
    }
   ],
   "source": [
    "#Accept the number from the user \n",
    "number=int(input(\"Enter an n-digit number:\"))\n",
    "\n",
    "#make a copy of the original number to compre later\n",
    "original_number=number\n",
    "reversed_number=0\n",
    "#Reverse the number using//and% operators\n",
    "while number>0:\n",
    "    digit=number%10\n",
    "    reversed_number=reversed_number*10+digit\n",
    "    number//=10  #Reverse the last digit\n",
    "#check if the original number is  the same as the reversed \n",
    "if original_number==reversed_number:\n",
    "    print(\"Palindrome\")\n",
    "else:\n",
    "    print(\"Not a Palindrome\")"
   ]
  },
  {
   "cell_type": "markdown",
   "id": "517a1491",
   "metadata": {},
   "source": [
    "# exp 5"
   ]
  },
  {
   "cell_type": "code",
   "execution_count": 10,
   "id": "51ba9c91",
   "metadata": {},
   "outputs": [
    {
     "name": "stdout",
     "output_type": "stream",
     "text": [
      "Enter an integer for multiplication table:10\n",
      "Multiplication table for 10:\n",
      "10*1=10\n",
      "10*2=20\n",
      "10*3=30\n",
      "10*4=40\n",
      "10*5=50\n",
      "10*6=60\n",
      "10*7=70\n",
      "10*8=80\n",
      "10*9=90\n",
      "10*10=100\n"
     ]
    }
   ],
   "source": [
    "#accept the integer from the user\n",
    "n=int(input(\"Enter an integer for multiplication table:\"))\n",
    "#Display the multiplication table \n",
    "print(f\"Multiplication table for {n}:\")\n",
    "for i in range(1,11):\n",
    "    result=n*i\n",
    "    print(f\"{n}*{i}={result}\")"
   ]
  },
  {
   "cell_type": "markdown",
   "id": "0646051d",
   "metadata": {},
   "source": [
    "# exp 6"
   ]
  },
  {
   "cell_type": "code",
   "execution_count": 1,
   "id": "54eac7b6",
   "metadata": {},
   "outputs": [
    {
     "name": "stdout",
     "output_type": "stream",
     "text": [
      "Enter the integer number:253\n",
      "The reverse number is:352\n"
     ]
    }
   ],
   "source": [
    "#Ask for the Enter the number from the user\n",
    "number=int(input(\"Enter the integer number:\"))\n",
    "#initate value to null\n",
    "revs_number=0\n",
    "while(number>0):\n",
    "    remainder=number%10\n",
    "    revs_number=(revs_number*10)+remainder\n",
    "    number=number//10\n",
    "print(\"The reverse number is:{}\".format(revs_number))"
   ]
  },
  {
   "cell_type": "markdown",
   "id": "e71e0552",
   "metadata": {},
   "source": [
    "# exp7"
   ]
  },
  {
   "cell_type": "code",
   "execution_count": 2,
   "id": "4028ef17",
   "metadata": {},
   "outputs": [
    {
     "name": "stdout",
     "output_type": "stream",
     "text": [
      "Enter the user input:23456\n",
      "Enter the 1st person which u want to swap:3\n",
      "Enter the 2nd person which u want to swap:5\n",
      "Original: 23456\n",
      "Interchanged number: 23654\n"
     ]
    }
   ],
   "source": [
    "def interchange_digits(number,pos1,pos2):\n",
    "    number_str=str(number)\n",
    "    number_list=list(number_str)\n",
    "    number_list[pos1-1],number_list[pos2-1]=number_list[pos2-1],number_list[pos1-1]\n",
    "    interchanged_number=int(\"\".join(number_list))\n",
    "    return interchanged_number\n",
    "number=int(input('Enter the user input:'))\n",
    "pos1=int(input('Enter the 1st person which u want to swap:'))\n",
    "pos2=int(input('Enter the 2nd person which u want to swap:'))\n",
    "interchanged_number=interchange_digits(number,pos1,pos2)\n",
    "print(\"Original:\",number)\n",
    "print(\"Interchanged number:\",interchanged_number)"
   ]
  },
  {
   "cell_type": "markdown",
   "id": "ba6bbec9",
   "metadata": {},
   "source": [
    "# exp8"
   ]
  },
  {
   "cell_type": "code",
   "execution_count": 7,
   "id": "f6fb5f44",
   "metadata": {},
   "outputs": [
    {
     "name": "stdout",
     "output_type": "stream",
     "text": [
      "['Hello', 'Good', 'How', 'Simple']\n"
     ]
    }
   ],
   "source": [
    "def capitalize_strings(string_list):\n",
    "    return[s.capitalize() for s in string_list]\n",
    "input_string=[\"hello\",\"good\",\"how\",\"simple\"]\n",
    "capitalize_strings=capitalize_strings(input_string)\n",
    "print(capitalize_strings)"
   ]
  },
  {
   "cell_type": "markdown",
   "id": "3e62c125",
   "metadata": {},
   "source": [
    "# exp9"
   ]
  },
  {
   "cell_type": "code",
   "execution_count": 19,
   "id": "5d2f3cbb",
   "metadata": {},
   "outputs": [
    {
     "name": "stdout",
     "output_type": "stream",
     "text": [
      "Enter a sentence:hello hello welcome to lab\n",
      "Duplicate words and their counts:\n",
      "hello:2\n"
     ]
    }
   ],
   "source": [
    "def count_duplicate_words(sentence):\n",
    "    words=sentence.split()\n",
    "    word_count={}\n",
    "    for word in words:\n",
    "        word=word.lower()\n",
    "        if word in word_count:\n",
    "            word_count[word]+=1\n",
    "        else:\n",
    "            word_count[word]=1\n",
    "    duplicate={word:count for word,count in word_count.items() if count>1}\n",
    "    if duplicate:\n",
    "        print(\"Duplicate words and their counts:\")\n",
    "        for word,count in duplicate.items():\n",
    "            print(f\"{word}:{count}\")\n",
    "    else:\n",
    "        print(\"No duplicate words found\")\n",
    "sentence=input(\"Enter a sentence:\")\n",
    "count_duplicate_words(sentence)"
   ]
  },
  {
   "cell_type": "code",
   "execution_count": null,
   "id": "0da1b004",
   "metadata": {},
   "outputs": [],
   "source": []
  }
 ],
 "metadata": {
  "kernelspec": {
   "display_name": "Python 3 (ipykernel)",
   "language": "python",
   "name": "python3"
  },
  "language_info": {
   "codemirror_mode": {
    "name": "ipython",
    "version": 3
   },
   "file_extension": ".py",
   "mimetype": "text/x-python",
   "name": "python",
   "nbconvert_exporter": "python",
   "pygments_lexer": "ipython3",
   "version": "3.10.9"
  }
 },
 "nbformat": 4,
 "nbformat_minor": 5
}
